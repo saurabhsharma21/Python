{
 "cells": [
  {
   "cell_type": "code",
   "execution_count": 1,
   "metadata": {},
   "outputs": [],
   "source": [
    "#Step 1 -Find the package (What package is needed suppose numpy or SciPy)\n",
    "    #Find Package over Git Hub\n",
    "#Step 2 - Install the package\n",
    "    #conda install packagename or pip install packagename\n",
    "#Step 3 - Import Package\n",
    "    #import<name of package example :scrapy>\n",
    "#Step 4 - Import Function(if you know what functions needs to be imported from packages individually)\n",
    "    #from scrapy.crawler importa CrawlerProcess (If you know what to extract from that package)"
   ]
  },
  {
   "cell_type": "code",
   "execution_count": 2,
   "metadata": {},
   "outputs": [],
   "source": [
    "import scrapy #(First install scrapy over terminal by using command \"conda install scrapy\")"
   ]
  },
  {
   "cell_type": "code",
   "execution_count": null,
   "metadata": {},
   "outputs": [],
   "source": []
  }
 ],
 "metadata": {
  "kernelspec": {
   "display_name": "Python 3",
   "language": "python",
   "name": "python3"
  },
  "language_info": {
   "codemirror_mode": {
    "name": "ipython",
    "version": 3
   },
   "file_extension": ".py",
   "mimetype": "text/x-python",
   "name": "python",
   "nbconvert_exporter": "python",
   "pygments_lexer": "ipython3",
   "version": "3.7.6"
  }
 },
 "nbformat": 4,
 "nbformat_minor": 4
}
